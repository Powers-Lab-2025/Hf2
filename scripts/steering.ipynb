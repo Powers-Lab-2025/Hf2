{
 "cells": [
  {
   "cell_type": "code",
   "execution_count": 4,
   "id": "ced4aab3-616b-4ff5-b0ef-cfcf06c66e63",
   "metadata": {},
   "outputs": [],
   "source": [
    "import sys\n",
    "from pathlib import Path\n",
    "\n",
    "repo_root = Path(\"/Users/alforest/Desktop/Documents/Hf2/Hf2\")\n",
    "sys.path.append(str(repo_root))\n"
   ]
  },
  {
   "cell_type": "code",
   "execution_count": 6,
   "id": "648eca85-9089-47e3-950b-d20fbd170f8e",
   "metadata": {},
   "outputs": [
    {
     "name": "stdout",
     "output_type": "stream",
     "text": [
      "[DYN] F5_ramp.dyn — 18000 atoms\n",
      "Title: User Made\n",
      "[XYZ] Wrote bonded .xyz to: /Users/alforest/Desktop/Documents/SomeSeeds/SimTree/F5/425/data/2/XYZs/F5_ramp_converted.xyz\n",
      "Success! Converted file written to: /Users/alforest/Desktop/Documents/SomeSeeds/SimTree/F5/425/data/2/XYZs/F5_ramp_converted.xyz\n"
     ]
    }
   ],
   "source": [
    "from pathlib import Path\n",
    "from hf2.conversion import convert_dyn_to_xyz\n",
    "\n",
    "dyn_path = Path(\"/Users/alforest/Desktop/Documents/SomeSeeds/SimTree/F5/425/data/2/F5_ramp.dyn\")\n",
    "\n",
    "try:\n",
    "    converted_path = convert_dyn_to_xyz(\n",
    "        dyn_path,\n",
    "        ref_prefix=\"F5_ramp\",\n",
    "        verbose=True\n",
    "    )\n",
    "    print(f\"Success! Converted file written to: {converted_path}\")\n",
    "except Exception as e:\n",
    "    print(f\"Conversion failed: {e}\")\n"
   ]
  },
  {
   "cell_type": "code",
   "execution_count": null,
   "id": "5b5e66f3-1584-4835-8c82-08423afc1822",
   "metadata": {},
   "outputs": [],
   "source": []
  }
 ],
 "metadata": {
  "kernelspec": {
   "display_name": "Python 3 (ipykernel)",
   "language": "python",
   "name": "python3"
  },
  "language_info": {
   "codemirror_mode": {
    "name": "ipython",
    "version": 3
   },
   "file_extension": ".py",
   "mimetype": "text/x-python",
   "name": "python",
   "nbconvert_exporter": "python",
   "pygments_lexer": "ipython3",
   "version": "3.9.13"
  }
 },
 "nbformat": 4,
 "nbformat_minor": 5
}
